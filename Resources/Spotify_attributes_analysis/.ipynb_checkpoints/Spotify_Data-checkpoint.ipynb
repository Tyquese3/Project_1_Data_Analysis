{
 "cells": [
  {
   "cell_type": "code",
   "execution_count": null,
   "id": "96d224bb-5642-4c71-98ef-d02a94487aed",
   "metadata": {},
   "outputs": [],
   "source": [
    "#import dependencies\n",
    "import pandas as pd\n",
    "import matplotlib.pyplot as plt"
   ]
  },
  {
   "cell_type": "code",
   "execution_count": null,
   "id": "74319ad0-803d-478d-b65a-073df88a3e17",
   "metadata": {},
   "outputs": [],
   "source": [
    "#create a reference to csv file\n",
    "file_path = (\"../Resources/Spotify_data.csv\")\n",
    "#Read csv file \n",
    "spotify_df = pd.read_csv(file_path)\n",
    "#print first 5 rows\n",
    "spotify_df.head()"
   ]
  },
  {
   "cell_type": "code",
   "execution_count": null,
   "id": "e6e6e09e-9491-4cc3-8f1b-ed7aef1cc19a",
   "metadata": {},
   "outputs": [],
   "source": [
    "#check the names of all columns and check rows for missing data\n",
    "spotify_df.count()"
   ]
  },
  {
   "cell_type": "code",
   "execution_count": null,
   "id": "13b69476-1bdb-4259-a0ac-ce2059e53f84",
   "metadata": {},
   "outputs": [],
   "source": [
    "#remove rows with missing data\n",
    "cleaned_rows_df = spotify_df.dropna(how=\"any\")\n",
    "cleaned_rows_df.count()"
   ]
  },
  {
   "cell_type": "code",
   "execution_count": null,
   "id": "60d23738-f23d-4bb0-925f-15bd3cedea3f",
   "metadata": {},
   "outputs": [],
   "source": [
    "#remove unwanted columns\n",
    "reduced_df = cleaned_rows_df[['song_title', 'artist', 'target', 'danceability', 'duration_ms', 'energy']]\n",
    "reduced_df.head()"
   ]
  },
  {
   "cell_type": "code",
   "execution_count": null,
   "id": "29b4ef03-d14b-438d-943c-ece6a4128bad",
   "metadata": {},
   "outputs": [],
   "source": [
    "#Identify duplicates\n",
    "duplicates_df = reduced_df[reduced_df.duplicated()]\n",
    "print(\"Duplicate Rows:\\n\", duplicates_df)"
   ]
  },
  {
   "cell_type": "code",
   "execution_count": null,
   "id": "5014ac40-7366-436a-8cb3-743d3fe19158",
   "metadata": {},
   "outputs": [],
   "source": [
    "# Drop duplicates\n",
    "cleaned_spotify_complete = reduced_df.drop_duplicates()\n",
    "cleaned_spotify_complete"
   ]
  },
  {
   "cell_type": "code",
   "execution_count": null,
   "id": "5506946d-b5fb-4771-a1e8-6e48bbc0d7c8",
   "metadata": {},
   "outputs": [],
   "source": [
    "cleaned_spotify_complete.count()"
   ]
  },
  {
   "cell_type": "code",
   "execution_count": null,
   "id": "70d783f3-27d6-4777-9f3e-e5308dc052c8",
   "metadata": {},
   "outputs": [],
   "source": [
    "#rename columns\n",
    "renamed_spotify_complete = cleaned_spotify_complete.rename(columns={\"target\": \"likeability\", \"song_title\": \"song\", \"artist\": \"singer\"})\n",
    "renamed_spotify_complete"
   ]
  },
  {
   "cell_type": "code",
   "execution_count": null,
   "id": "3341faf7-6804-47ae-aeca-934a5e44fbe6",
   "metadata": {},
   "outputs": [],
   "source": [
    "count = { 'song': [f'Song{i}' for i in range(2011)], \n",
    "         'likeability': [1 if i % 2 == 0 else 0 for i in range(2011)] \n",
    "}\n",
    "song_likeability_data = pd.DataFrame(count)"
   ]
  },
  {
   "cell_type": "code",
   "execution_count": null,
   "id": "b34ec5e2-0fab-4d65-9cd3-0680a714b37d",
   "metadata": {},
   "outputs": [],
   "source": [
    "likeability_counts = song_likeability_data['likeability'].value_counts()\n",
    "likeability_counts"
   ]
  },
  {
   "cell_type": "code",
   "execution_count": null,
   "id": "56451f33-5075-44a4-86a3-b9b815ba199e",
   "metadata": {},
   "outputs": [],
   "source": [
    "# Create a DataFrame with given columns and value"
   ]
  },
  {
   "cell_type": "code",
   "execution_count": null,
   "id": "eff50710-67a3-4e44-ad02-22935060ab7d",
   "metadata": {},
   "outputs": [],
   "source": [
    "#create liked/unliked songs distribution pie chart\n",
    "plt.figure(figsize=(5, 4) )\n",
    "likeability_counts.plot(kind='pie', labels=['Liked', 'Unliked'], autopct='%1.1f%%', colors=['lightcoral', 'skyblue'], startangle=90) \n",
    "plt.title('Percentage of Liked and Unliked Songs')\n",
    "plt.ylabel('')\n",
    "plt.show()"
   ]
  },
  {
   "cell_type": "code",
   "execution_count": null,
   "id": "255bb823-38d3-4bd4-a825-c51fe8bf7ae0",
   "metadata": {},
   "outputs": [],
   "source": [
    "renamed_spotify_complete = pd.DataFrame(renamed_spotify_complete)\n",
    "renamed_spotify_complete"
   ]
  },
  {
   "cell_type": "code",
   "execution_count": null,
   "id": "22c3c54d-0305-40f8-99ac-179b5b7d659f",
   "metadata": {},
   "outputs": [],
   "source": [
    "singer_counts = renamed_spotify_complete['singer'].value_counts().head(20)\n",
    "singer_counts"
   ]
  },
  {
   "cell_type": "code",
   "execution_count": null,
   "id": "3df3abb2-1d8f-4b10-b097-b6d5c3c4f3f6",
   "metadata": {},
   "outputs": [],
   "source": [
    "singer_counts_df = pd.DataFrame(singer_counts)\n",
    "singer_counts_df"
   ]
  },
  {
   "cell_type": "code",
   "execution_count": null,
   "id": "84ffd75a-2f8e-40e0-8656-30b44233c0f8",
   "metadata": {},
   "outputs": [],
   "source": [
    "#create bar chart showing popularity of artists\n",
    "plt.figure(figsize=(8, 8))\n",
    "singer_counts_df.plot(kind='bar', color='lightgreen') \n",
    "plt.xlabel('Top Twenty Singers') \n",
    "plt.ylabel('Number of Songs') \n",
    "plt.title('Number of Songs by Singer') \n",
    "plt.xticks(rotation=90)\n",
    "plt.show()"
   ]
  },
  {
   "cell_type": "code",
   "execution_count": null,
   "id": "62919a3b-f9b1-421f-a869-05ad80d2ee1c",
   "metadata": {},
   "outputs": [],
   "source": [
    "#create bar chart for each attribute\n",
    "danceability_counts = renamed_spotify_complete['danceability'].value_counts().head(10)\n",
    "danceability_counts"
   ]
  },
  {
   "cell_type": "code",
   "execution_count": null,
   "id": "22d013a4-b758-4c71-a221-944bcacbf432",
   "metadata": {},
   "outputs": [],
   "source": [
    "# # Group by danceability and likeability, and count the occurrences \n",
    "# danceability_likeability_counts =renamed_spotify_complete.groupby(['danceability', 'likeability']).size().unstack()"
   ]
  },
  {
   "cell_type": "code",
   "execution_count": null,
   "id": "372dc0b6-e324-4857-9a39-2a26e631c444",
   "metadata": {},
   "outputs": [],
   "source": [
    "plt.figure(figsize=(8, 8))\n",
    "danceability_likeability_counts.plot(kind='bar', color=['skyblue', 'lightcoral']) \n",
    "# ax.set_xlim(0, 10) # Assuming danceability values are in the range of 0 to 1 (mapped to 0 to 10)\n",
    "# ax.set_xticks(range(0, 11))\n",
    "plt.xlabel('danceability') \n",
    "plt.ylabel('counts') \n",
    "plt.title('Number of danceability of a song') \n",
    "plt.xticks(rotation=45)\n",
    "plt.show()"
   ]
  },
  {
   "cell_type": "code",
   "execution_count": null,
   "id": "f66308f6-e7f4-4d09-bb8b-8df100c07a7f",
   "metadata": {},
   "outputs": [],
   "source": [
    "\n",
    "# # Example DataFrame\n",
    "# dance = {\n",
    "#     'song': [f'Song{i}' for i in range(2000)],\n",
    "#     'danceability': [round(i % 10 * 0.1, 1) for i in range(2000)],\n",
    "#     'likeability': [1 if i % 2 == 0 else 0 for i in range(2000)]\n",
    "# }\n",
    "# danceability_counts = pd.DataFrame(dance)\n",
    "\n",
    "# # Group by danceability and likeability, and count the occurrences\n",
    "# danceability_likeability_counts = danceability_counts.groupby(['danceability', 'likeability']).size().unstack()\n",
    "\n",
    "# # Plotting the bar chart\n",
    "# fig, ax = plt.subplots(figsize=(12, 8))\n",
    "# danceability_likeability_counts.plot(kind='bar', stacked=True, ax=ax, color=['skyblue', 'lightcoral'])\n",
    "\n",
    "# # Set x-axis range and ticks\n",
    "# ax.set_xlim(-0.5, 5)  # Adjusted range to fit the bar plot correctly\n",
    "# ax.set_xticks([i for i in range(6)])  # Set ticks at 0, 0.2, 0.4, 0.6, 0.8, 1.0 (mapped accordingly)\n",
    "# ax.set_xticklabels([f'{i*0.2:.1f}' for i in range(6)])  # Label ticks as 0.0, 0.2, 0.4, 0.6, 0.8, 1.0\n",
    "\n",
    "# # Set labels and title\n",
    "# plt.xlabel('Danceability')\n",
    "# plt.ylabel('Count')\n",
    "# plt.title('Counts of Songs by Danceability and Likeability')\n",
    "# plt.legend(title='Likeability', labels=['Unliked', 'Liked'])\n",
    "# plt.show()\n"
   ]
  },
  {
   "cell_type": "code",
   "execution_count": null,
   "id": "428221c2-4bda-451c-8094-9ee123406af2",
   "metadata": {},
   "outputs": [],
   "source": [
    "#create bar chart for each attribute relative to likability count"
   ]
  },
  {
   "cell_type": "code",
   "execution_count": null,
   "id": "91fabfa3-c948-4c2e-b467-8fa2db77c9a6",
   "metadata": {},
   "outputs": [],
   "source": [
    "#create bar chart for danceability relative to artist popularity "
   ]
  },
  {
   "cell_type": "code",
   "execution_count": null,
   "id": "c8456d5a-7591-49e4-ab34-47482a0ce89b",
   "metadata": {},
   "outputs": [],
   "source": []
  },
  {
   "cell_type": "code",
   "execution_count": null,
   "id": "2b6c73ca-914f-449c-93d9-7e01c552ce8b",
   "metadata": {},
   "outputs": [],
   "source": []
  },
  {
   "cell_type": "code",
   "execution_count": null,
   "id": "05b90060-f028-4a85-b124-52a80a741ba2",
   "metadata": {},
   "outputs": [],
   "source": []
  }
 ],
 "metadata": {
  "kernelspec": {
   "display_name": "Python 3 (ipykernel)",
   "language": "python",
   "name": "python3"
  },
  "language_info": {
   "codemirror_mode": {
    "name": "ipython",
    "version": 3
   },
   "file_extension": ".py",
   "mimetype": "text/x-python",
   "name": "python",
   "nbconvert_exporter": "python",
   "pygments_lexer": "ipython3",
   "version": "3.12.4"
  }
 },
 "nbformat": 4,
 "nbformat_minor": 5
}
