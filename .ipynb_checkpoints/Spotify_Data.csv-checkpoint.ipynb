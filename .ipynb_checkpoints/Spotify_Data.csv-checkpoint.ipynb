{
 "cells": [
  {
   "cell_type": "code",
   "execution_count": 1,
   "id": "96d224bb-5642-4c71-98ef-d02a94487aed",
   "metadata": {},
   "outputs": [],
   "source": [
    "#import dependencies\n",
    "import pandas as pd\n",
    "import matplotlib.pyplot as plt"
   ]
  },
  {
   "cell_type": "code",
   "execution_count": 4,
   "id": "74319ad0-803d-478d-b65a-073df88a3e17",
   "metadata": {},
   "outputs": [
    {
     "ename": "FileNotFoundError",
     "evalue": "[Errno 2] No such file or directory: 'Resources/Spotify_data.csv'",
     "output_type": "error",
     "traceback": [
      "\u001b[1;31m---------------------------------------------------------------------------\u001b[0m",
      "\u001b[1;31mFileNotFoundError\u001b[0m                         Traceback (most recent call last)",
      "Cell \u001b[1;32mIn[4], line 4\u001b[0m\n\u001b[0;32m      2\u001b[0m file_path \u001b[38;5;241m=\u001b[39m (\u001b[38;5;124m\"\u001b[39m\u001b[38;5;124mResources/Spotify_data.csv\u001b[39m\u001b[38;5;124m\"\u001b[39m)\n\u001b[0;32m      3\u001b[0m \u001b[38;5;66;03m#Read csv file \u001b[39;00m\n\u001b[1;32m----> 4\u001b[0m spotify_df \u001b[38;5;241m=\u001b[39m pd\u001b[38;5;241m.\u001b[39mread_csv(file_path)\n\u001b[0;32m      5\u001b[0m \u001b[38;5;66;03m#print first 5 rows\u001b[39;00m\n\u001b[0;32m      6\u001b[0m spotify_df\u001b[38;5;241m.\u001b[39mhead()\n",
      "File \u001b[1;32m~\\anaconda3\\Lib\\site-packages\\pandas\\io\\parsers\\readers.py:1026\u001b[0m, in \u001b[0;36mread_csv\u001b[1;34m(filepath_or_buffer, sep, delimiter, header, names, index_col, usecols, dtype, engine, converters, true_values, false_values, skipinitialspace, skiprows, skipfooter, nrows, na_values, keep_default_na, na_filter, verbose, skip_blank_lines, parse_dates, infer_datetime_format, keep_date_col, date_parser, date_format, dayfirst, cache_dates, iterator, chunksize, compression, thousands, decimal, lineterminator, quotechar, quoting, doublequote, escapechar, comment, encoding, encoding_errors, dialect, on_bad_lines, delim_whitespace, low_memory, memory_map, float_precision, storage_options, dtype_backend)\u001b[0m\n\u001b[0;32m   1013\u001b[0m kwds_defaults \u001b[38;5;241m=\u001b[39m _refine_defaults_read(\n\u001b[0;32m   1014\u001b[0m     dialect,\n\u001b[0;32m   1015\u001b[0m     delimiter,\n\u001b[1;32m   (...)\u001b[0m\n\u001b[0;32m   1022\u001b[0m     dtype_backend\u001b[38;5;241m=\u001b[39mdtype_backend,\n\u001b[0;32m   1023\u001b[0m )\n\u001b[0;32m   1024\u001b[0m kwds\u001b[38;5;241m.\u001b[39mupdate(kwds_defaults)\n\u001b[1;32m-> 1026\u001b[0m \u001b[38;5;28;01mreturn\u001b[39;00m _read(filepath_or_buffer, kwds)\n",
      "File \u001b[1;32m~\\anaconda3\\Lib\\site-packages\\pandas\\io\\parsers\\readers.py:620\u001b[0m, in \u001b[0;36m_read\u001b[1;34m(filepath_or_buffer, kwds)\u001b[0m\n\u001b[0;32m    617\u001b[0m _validate_names(kwds\u001b[38;5;241m.\u001b[39mget(\u001b[38;5;124m\"\u001b[39m\u001b[38;5;124mnames\u001b[39m\u001b[38;5;124m\"\u001b[39m, \u001b[38;5;28;01mNone\u001b[39;00m))\n\u001b[0;32m    619\u001b[0m \u001b[38;5;66;03m# Create the parser.\u001b[39;00m\n\u001b[1;32m--> 620\u001b[0m parser \u001b[38;5;241m=\u001b[39m TextFileReader(filepath_or_buffer, \u001b[38;5;241m*\u001b[39m\u001b[38;5;241m*\u001b[39mkwds)\n\u001b[0;32m    622\u001b[0m \u001b[38;5;28;01mif\u001b[39;00m chunksize \u001b[38;5;129;01mor\u001b[39;00m iterator:\n\u001b[0;32m    623\u001b[0m     \u001b[38;5;28;01mreturn\u001b[39;00m parser\n",
      "File \u001b[1;32m~\\anaconda3\\Lib\\site-packages\\pandas\\io\\parsers\\readers.py:1620\u001b[0m, in \u001b[0;36mTextFileReader.__init__\u001b[1;34m(self, f, engine, **kwds)\u001b[0m\n\u001b[0;32m   1617\u001b[0m     \u001b[38;5;28mself\u001b[39m\u001b[38;5;241m.\u001b[39moptions[\u001b[38;5;124m\"\u001b[39m\u001b[38;5;124mhas_index_names\u001b[39m\u001b[38;5;124m\"\u001b[39m] \u001b[38;5;241m=\u001b[39m kwds[\u001b[38;5;124m\"\u001b[39m\u001b[38;5;124mhas_index_names\u001b[39m\u001b[38;5;124m\"\u001b[39m]\n\u001b[0;32m   1619\u001b[0m \u001b[38;5;28mself\u001b[39m\u001b[38;5;241m.\u001b[39mhandles: IOHandles \u001b[38;5;241m|\u001b[39m \u001b[38;5;28;01mNone\u001b[39;00m \u001b[38;5;241m=\u001b[39m \u001b[38;5;28;01mNone\u001b[39;00m\n\u001b[1;32m-> 1620\u001b[0m \u001b[38;5;28mself\u001b[39m\u001b[38;5;241m.\u001b[39m_engine \u001b[38;5;241m=\u001b[39m \u001b[38;5;28mself\u001b[39m\u001b[38;5;241m.\u001b[39m_make_engine(f, \u001b[38;5;28mself\u001b[39m\u001b[38;5;241m.\u001b[39mengine)\n",
      "File \u001b[1;32m~\\anaconda3\\Lib\\site-packages\\pandas\\io\\parsers\\readers.py:1880\u001b[0m, in \u001b[0;36mTextFileReader._make_engine\u001b[1;34m(self, f, engine)\u001b[0m\n\u001b[0;32m   1878\u001b[0m     \u001b[38;5;28;01mif\u001b[39;00m \u001b[38;5;124m\"\u001b[39m\u001b[38;5;124mb\u001b[39m\u001b[38;5;124m\"\u001b[39m \u001b[38;5;129;01mnot\u001b[39;00m \u001b[38;5;129;01min\u001b[39;00m mode:\n\u001b[0;32m   1879\u001b[0m         mode \u001b[38;5;241m+\u001b[39m\u001b[38;5;241m=\u001b[39m \u001b[38;5;124m\"\u001b[39m\u001b[38;5;124mb\u001b[39m\u001b[38;5;124m\"\u001b[39m\n\u001b[1;32m-> 1880\u001b[0m \u001b[38;5;28mself\u001b[39m\u001b[38;5;241m.\u001b[39mhandles \u001b[38;5;241m=\u001b[39m get_handle(\n\u001b[0;32m   1881\u001b[0m     f,\n\u001b[0;32m   1882\u001b[0m     mode,\n\u001b[0;32m   1883\u001b[0m     encoding\u001b[38;5;241m=\u001b[39m\u001b[38;5;28mself\u001b[39m\u001b[38;5;241m.\u001b[39moptions\u001b[38;5;241m.\u001b[39mget(\u001b[38;5;124m\"\u001b[39m\u001b[38;5;124mencoding\u001b[39m\u001b[38;5;124m\"\u001b[39m, \u001b[38;5;28;01mNone\u001b[39;00m),\n\u001b[0;32m   1884\u001b[0m     compression\u001b[38;5;241m=\u001b[39m\u001b[38;5;28mself\u001b[39m\u001b[38;5;241m.\u001b[39moptions\u001b[38;5;241m.\u001b[39mget(\u001b[38;5;124m\"\u001b[39m\u001b[38;5;124mcompression\u001b[39m\u001b[38;5;124m\"\u001b[39m, \u001b[38;5;28;01mNone\u001b[39;00m),\n\u001b[0;32m   1885\u001b[0m     memory_map\u001b[38;5;241m=\u001b[39m\u001b[38;5;28mself\u001b[39m\u001b[38;5;241m.\u001b[39moptions\u001b[38;5;241m.\u001b[39mget(\u001b[38;5;124m\"\u001b[39m\u001b[38;5;124mmemory_map\u001b[39m\u001b[38;5;124m\"\u001b[39m, \u001b[38;5;28;01mFalse\u001b[39;00m),\n\u001b[0;32m   1886\u001b[0m     is_text\u001b[38;5;241m=\u001b[39mis_text,\n\u001b[0;32m   1887\u001b[0m     errors\u001b[38;5;241m=\u001b[39m\u001b[38;5;28mself\u001b[39m\u001b[38;5;241m.\u001b[39moptions\u001b[38;5;241m.\u001b[39mget(\u001b[38;5;124m\"\u001b[39m\u001b[38;5;124mencoding_errors\u001b[39m\u001b[38;5;124m\"\u001b[39m, \u001b[38;5;124m\"\u001b[39m\u001b[38;5;124mstrict\u001b[39m\u001b[38;5;124m\"\u001b[39m),\n\u001b[0;32m   1888\u001b[0m     storage_options\u001b[38;5;241m=\u001b[39m\u001b[38;5;28mself\u001b[39m\u001b[38;5;241m.\u001b[39moptions\u001b[38;5;241m.\u001b[39mget(\u001b[38;5;124m\"\u001b[39m\u001b[38;5;124mstorage_options\u001b[39m\u001b[38;5;124m\"\u001b[39m, \u001b[38;5;28;01mNone\u001b[39;00m),\n\u001b[0;32m   1889\u001b[0m )\n\u001b[0;32m   1890\u001b[0m \u001b[38;5;28;01massert\u001b[39;00m \u001b[38;5;28mself\u001b[39m\u001b[38;5;241m.\u001b[39mhandles \u001b[38;5;129;01mis\u001b[39;00m \u001b[38;5;129;01mnot\u001b[39;00m \u001b[38;5;28;01mNone\u001b[39;00m\n\u001b[0;32m   1891\u001b[0m f \u001b[38;5;241m=\u001b[39m \u001b[38;5;28mself\u001b[39m\u001b[38;5;241m.\u001b[39mhandles\u001b[38;5;241m.\u001b[39mhandle\n",
      "File \u001b[1;32m~\\anaconda3\\Lib\\site-packages\\pandas\\io\\common.py:873\u001b[0m, in \u001b[0;36mget_handle\u001b[1;34m(path_or_buf, mode, encoding, compression, memory_map, is_text, errors, storage_options)\u001b[0m\n\u001b[0;32m    868\u001b[0m \u001b[38;5;28;01melif\u001b[39;00m \u001b[38;5;28misinstance\u001b[39m(handle, \u001b[38;5;28mstr\u001b[39m):\n\u001b[0;32m    869\u001b[0m     \u001b[38;5;66;03m# Check whether the filename is to be opened in binary mode.\u001b[39;00m\n\u001b[0;32m    870\u001b[0m     \u001b[38;5;66;03m# Binary mode does not support 'encoding' and 'newline'.\u001b[39;00m\n\u001b[0;32m    871\u001b[0m     \u001b[38;5;28;01mif\u001b[39;00m ioargs\u001b[38;5;241m.\u001b[39mencoding \u001b[38;5;129;01mand\u001b[39;00m \u001b[38;5;124m\"\u001b[39m\u001b[38;5;124mb\u001b[39m\u001b[38;5;124m\"\u001b[39m \u001b[38;5;129;01mnot\u001b[39;00m \u001b[38;5;129;01min\u001b[39;00m ioargs\u001b[38;5;241m.\u001b[39mmode:\n\u001b[0;32m    872\u001b[0m         \u001b[38;5;66;03m# Encoding\u001b[39;00m\n\u001b[1;32m--> 873\u001b[0m         handle \u001b[38;5;241m=\u001b[39m \u001b[38;5;28mopen\u001b[39m(\n\u001b[0;32m    874\u001b[0m             handle,\n\u001b[0;32m    875\u001b[0m             ioargs\u001b[38;5;241m.\u001b[39mmode,\n\u001b[0;32m    876\u001b[0m             encoding\u001b[38;5;241m=\u001b[39mioargs\u001b[38;5;241m.\u001b[39mencoding,\n\u001b[0;32m    877\u001b[0m             errors\u001b[38;5;241m=\u001b[39merrors,\n\u001b[0;32m    878\u001b[0m             newline\u001b[38;5;241m=\u001b[39m\u001b[38;5;124m\"\u001b[39m\u001b[38;5;124m\"\u001b[39m,\n\u001b[0;32m    879\u001b[0m         )\n\u001b[0;32m    880\u001b[0m     \u001b[38;5;28;01melse\u001b[39;00m:\n\u001b[0;32m    881\u001b[0m         \u001b[38;5;66;03m# Binary mode\u001b[39;00m\n\u001b[0;32m    882\u001b[0m         handle \u001b[38;5;241m=\u001b[39m \u001b[38;5;28mopen\u001b[39m(handle, ioargs\u001b[38;5;241m.\u001b[39mmode)\n",
      "\u001b[1;31mFileNotFoundError\u001b[0m: [Errno 2] No such file or directory: 'Resources/Spotify_data.csv'"
     ]
    }
   ],
   "source": [
    "#create a reference to csv file\n",
    "file_path = (\"Resources/Spotify_data.csv\")\n",
    "#Read csv file \n",
    "spotify_df = pd.read_csv(file_path)\n",
    "#print first 5 rows\n",
    "spotify_df.head()"
   ]
  },
  {
   "cell_type": "code",
   "execution_count": null,
   "id": "e6e6e09e-9491-4cc3-8f1b-ed7aef1cc19a",
   "metadata": {},
   "outputs": [],
   "source": [
    "#check the names of all columns and check rows for missing data\n",
    "spotify_df.count()\n"
   ]
  },
  {
   "cell_type": "code",
   "execution_count": null,
   "id": "13b69476-1bdb-4259-a0ac-ce2059e53f84",
   "metadata": {},
   "outputs": [],
   "source": [
    "#remove rows with missing data\n",
    "cleaned_rows_df = spotify_df.dropna(how=\"any\")\n",
    "cleaned_rows_df.count()"
   ]
  },
  {
   "cell_type": "code",
   "execution_count": null,
   "id": "60d23738-f23d-4bb0-925f-15bd3cedea3f",
   "metadata": {},
   "outputs": [],
   "source": [
    "#remove unwanted columns\n",
    "reduced_df = cleaned_rows_df[['song_title', 'artist', 'target', 'danceability', 'duration_ms', 'energy']]\n",
    "reduced_df.head()"
   ]
  },
  {
   "cell_type": "code",
   "execution_count": null,
   "id": "29b4ef03-d14b-438d-943c-ece6a4128bad",
   "metadata": {},
   "outputs": [],
   "source": [
    "#Identify duplicates\n",
    "duplicates_df = reduced_df[reduced_df.duplicated()]\n",
    "print(\"Duplicate Rows:\\n\", duplicates_df)"
   ]
  },
  {
   "cell_type": "code",
   "execution_count": null,
   "id": "5014ac40-7366-436a-8cb3-743d3fe19158",
   "metadata": {},
   "outputs": [],
   "source": [
    "# Drop duplicates\n",
    "cleaned_spotify_complete = reduced_df.drop_duplicates()\n",
    "cleaned_spotify_complete"
   ]
  },
  {
   "cell_type": "code",
   "execution_count": null,
   "id": "5506946d-b5fb-4771-a1e8-6e48bbc0d7c8",
   "metadata": {},
   "outputs": [],
   "source": [
    "cleaned_spotify_complete.count()"
   ]
  },
  {
   "cell_type": "code",
   "execution_count": null,
   "id": "70d783f3-27d6-4777-9f3e-e5308dc052c8",
   "metadata": {},
   "outputs": [],
   "source": [
    "#rename columns\n",
    "renamed_spotify_complete = cleaned_spotify_complete.rename(columns={\"target\": \"likeability\", \"song_title\": \"song\", \"artist\": \"singer\"})\n",
    "renamed_spotify_complete"
   ]
  },
  {
   "cell_type": "code",
   "execution_count": null,
   "id": "3341faf7-6804-47ae-aeca-934a5e44fbe6",
   "metadata": {},
   "outputs": [],
   "source": [
    "count = { 'song': [f'Song{i}' for i in range(2011)], \n",
    "         'likeability': [1 if i % 2 == 0 else 0 for i in range(2011)] \n",
    "}\n",
    "song_likeability_data = pd.DataFrame(count)"
   ]
  },
  {
   "cell_type": "code",
   "execution_count": null,
   "id": "b34ec5e2-0fab-4d65-9cd3-0680a714b37d",
   "metadata": {},
   "outputs": [],
   "source": [
    "likeability_counts = song_likeability_data['likeability'].value_counts()\n",
    "likeability_counts"
   ]
  },
  {
   "cell_type": "code",
   "execution_count": null,
   "id": "56451f33-5075-44a4-86a3-b9b815ba199e",
   "metadata": {},
   "outputs": [],
   "source": [
    "# Create a DataFrame with given columns and value"
   ]
  },
  {
   "cell_type": "code",
   "execution_count": null,
   "id": "eff50710-67a3-4e44-ad02-22935060ab7d",
   "metadata": {},
   "outputs": [],
   "source": [
    "#create liked/unliked songs distribution pie chart\n",
    "plt.figure(figsize=(5, 4) )\n",
    "likeability_counts.plot(kind='pie', labels=['Liked', 'Unliked'], autopct='%1.1f%%', colors=['lightcoral', 'skyblue'], startangle=90) \n",
    "plt.title('Percentage of Liked and Unliked Songs')\n",
    "plt.ylabel('')\n",
    "plt.show()"
   ]
  },
  {
   "cell_type": "code",
   "execution_count": null,
   "id": "255bb823-38d3-4bd4-a825-c51fe8bf7ae0",
   "metadata": {},
   "outputs": [],
   "source": [
    "renamed_spotify_complete = pd.DataFrame(renamed_spotify_complete)\n",
    "renamed_spotify_complete"
   ]
  },
  {
   "cell_type": "code",
   "execution_count": null,
   "id": "22c3c54d-0305-40f8-99ac-179b5b7d659f",
   "metadata": {},
   "outputs": [],
   "source": [
    "singer_counts = renamed_spotify_complete['singer'].value_counts().head(20)\n",
    "singer_counts"
   ]
  },
  {
   "cell_type": "code",
   "execution_count": null,
   "id": "3df3abb2-1d8f-4b10-b097-b6d5c3c4f3f6",
   "metadata": {},
   "outputs": [],
   "source": [
    "singer_counts_df = pd.DataFrame(singer_counts)\n",
    "singer_counts_df"
   ]
  },
  {
   "cell_type": "code",
   "execution_count": null,
   "id": "84ffd75a-2f8e-40e0-8656-30b44233c0f8",
   "metadata": {},
   "outputs": [],
   "source": [
    "#create bar chart showing popularity of artists\n",
    "plt.figure(figsize=(8, 8))\n",
    "singer_counts_df.plot(kind='bar', color='lightgreen') \n",
    "plt.xlabel('Top Twenty Singers') \n",
    "plt.ylabel('Number of Songs') \n",
    "plt.title('Number of Songs by Singer') \n",
    "plt.xticks(rotation=90)\n",
    "plt.show()"
   ]
  },
  {
   "cell_type": "code",
   "execution_count": null,
   "id": "62919a3b-f9b1-421f-a869-05ad80d2ee1c",
   "metadata": {},
   "outputs": [],
   "source": [
    "#create bar chart for each attribute\n",
    "danceability_counts = renamed_spotify_complete['danceability'].value_counts().head(10)\n",
    "danceability_counts"
   ]
  },
  {
   "cell_type": "code",
   "execution_count": null,
   "id": "22d013a4-b758-4c71-a221-944bcacbf432",
   "metadata": {},
   "outputs": [],
   "source": [
    "# # Group by danceability and likeability, and count the occurrences \n",
    "# danceability_likeability_counts =renamed_spotify_complete.groupby(['danceability', 'likeability']).size().unstack()"
   ]
  },
  {
   "cell_type": "code",
   "execution_count": null,
   "id": "372dc0b6-e324-4857-9a39-2a26e631c444",
   "metadata": {},
   "outputs": [],
   "source": [
    "plt.figure(figsize=(8, 8))\n",
    "danceability_likeability_counts.plot(kind='bar', color=['skyblue', 'lightcoral']) \n",
    "# ax.set_xlim(0, 10) # Assuming danceability values are in the range of 0 to 1 (mapped to 0 to 10)\n",
    "# ax.set_xticks(range(0, 11))\n",
    "plt.xlabel('danceability') \n",
    "plt.ylabel('counts') \n",
    "plt.title('Number of danceability of a song') \n",
    "plt.xticks(rotation=45)\n",
    "plt.show()"
   ]
  },
  {
   "cell_type": "code",
   "execution_count": null,
   "id": "f66308f6-e7f4-4d09-bb8b-8df100c07a7f",
   "metadata": {},
   "outputs": [],
   "source": [
    "\n",
    "# # Example DataFrame\n",
    "# dance = {\n",
    "#     'song': [f'Song{i}' for i in range(2000)],\n",
    "#     'danceability': [round(i % 10 * 0.1, 1) for i in range(2000)],\n",
    "#     'likeability': [1 if i % 2 == 0 else 0 for i in range(2000)]\n",
    "# }\n",
    "# danceability_counts = pd.DataFrame(dance)\n",
    "\n",
    "# # Group by danceability and likeability, and count the occurrences\n",
    "# danceability_likeability_counts = danceability_counts.groupby(['danceability', 'likeability']).size().unstack()\n",
    "\n",
    "# # Plotting the bar chart\n",
    "# fig, ax = plt.subplots(figsize=(12, 8))\n",
    "# danceability_likeability_counts.plot(kind='bar', stacked=True, ax=ax, color=['skyblue', 'lightcoral'])\n",
    "\n",
    "# # Set x-axis range and ticks\n",
    "# ax.set_xlim(-0.5, 5)  # Adjusted range to fit the bar plot correctly\n",
    "# ax.set_xticks([i for i in range(6)])  # Set ticks at 0, 0.2, 0.4, 0.6, 0.8, 1.0 (mapped accordingly)\n",
    "# ax.set_xticklabels([f'{i*0.2:.1f}' for i in range(6)])  # Label ticks as 0.0, 0.2, 0.4, 0.6, 0.8, 1.0\n",
    "\n",
    "# # Set labels and title\n",
    "# plt.xlabel('Danceability')\n",
    "# plt.ylabel('Count')\n",
    "# plt.title('Counts of Songs by Danceability and Likeability')\n",
    "# plt.legend(title='Likeability', labels=['Unliked', 'Liked'])\n",
    "# plt.show()\n"
   ]
  },
  {
   "cell_type": "code",
   "execution_count": null,
   "id": "428221c2-4bda-451c-8094-9ee123406af2",
   "metadata": {},
   "outputs": [],
   "source": [
    "#create bar chart for each attribute relative to likability count"
   ]
  },
  {
   "cell_type": "code",
   "execution_count": null,
   "id": "91fabfa3-c948-4c2e-b467-8fa2db77c9a6",
   "metadata": {},
   "outputs": [],
   "source": [
    "#create bar chart for danceability relative to artist popularity "
   ]
  },
  {
   "cell_type": "code",
   "execution_count": null,
   "id": "c8456d5a-7591-49e4-ab34-47482a0ce89b",
   "metadata": {},
   "outputs": [],
   "source": []
  },
  {
   "cell_type": "code",
   "execution_count": null,
   "id": "2b6c73ca-914f-449c-93d9-7e01c552ce8b",
   "metadata": {},
   "outputs": [],
   "source": []
  },
  {
   "cell_type": "code",
   "execution_count": null,
   "id": "05b90060-f028-4a85-b124-52a80a741ba2",
   "metadata": {},
   "outputs": [],
   "source": []
  }
 ],
 "metadata": {
  "kernelspec": {
   "display_name": "Python 3 (ipykernel)",
   "language": "python",
   "name": "python3"
  },
  "language_info": {
   "codemirror_mode": {
    "name": "ipython",
    "version": 3
   },
   "file_extension": ".py",
   "mimetype": "text/x-python",
   "name": "python",
   "nbconvert_exporter": "python",
   "pygments_lexer": "ipython3",
   "version": "3.12.4"
  }
 },
 "nbformat": 4,
 "nbformat_minor": 5
}
